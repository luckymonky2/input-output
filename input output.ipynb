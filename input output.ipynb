{
 "cells": [
  {
   "cell_type": "code",
   "execution_count": null,
   "id": "f026f8fa",
   "metadata": {},
   "outputs": [],
   "source": [
    "name = input(\"your name \")\n",
    "age = input(\"your age\")\n",
    "print(f\"Hellow {name},you are {age} years old\")"
   ]
  },
  {
   "cell_type": "code",
   "execution_count": null,
   "id": "b719b42b",
   "metadata": {},
   "outputs": [],
   "source": [
    "number1 = int(input(\"enter the first number\"))\n",
    "number2 = int(input(\"enter the second number\"))\n",
    "print(number1 + number2)"
   ]
  },
  {
   "cell_type": "code",
   "execution_count": null,
   "id": "b63efadd",
   "metadata": {},
   "outputs": [],
   "source": [
    "word = (\"helow world\")\n",
    "print(\"the number of words: \",len(word))"
   ]
  },
  {
   "cell_type": "code",
   "execution_count": null,
   "id": "4c470edf",
   "metadata": {},
   "outputs": [],
   "source": [
    "with open(\"xy.txt\", \"r\") as file:\n",
    "    text = file.read()\n",
    "    words = text\n",
    "    print(\"number of words:\",len(words))"
   ]
  },
  {
   "cell_type": "code",
   "execution_count": null,
   "id": "462b0014",
   "metadata": {},
   "outputs": [],
   "source": [
    "sentence = (\"i will be successful\")\n",
    "print(sentence[::-1])"
   ]
  },
  {
   "cell_type": "code",
   "execution_count": null,
   "id": "7bf68c3a",
   "metadata": {},
   "outputs": [],
   "source": [
    "filename =\"data.csv\"\n",
    "data_dict = {}\n",
    "print(data_dict)\n"
   ]
  },
  {
   "cell_type": "code",
   "execution_count": null,
   "id": "21c0ca58",
   "metadata": {},
   "outputs": [],
   "source": [
    "logfile = \"log.txt\"\n",
    "keyword = \"ERROR\"\n",
    "print(\"keyword\")"
   ]
  }
 ],
 "metadata": {
  "language_info": {
   "name": "python"
  }
 },
 "nbformat": 4,
 "nbformat_minor": 5
}
